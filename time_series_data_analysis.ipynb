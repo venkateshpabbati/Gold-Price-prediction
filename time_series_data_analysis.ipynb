import pandas as pd
import matplotlib.pyplot as plt
import seaborn as sns
from statsmodels.tsa.holtwinters import SimpleExpSmoothing
from statsmodels.graphics.tsaplots import plot_pacf, plot_acf
from pandas.plotting import lag_plot

# Suppress warnings for cleaner output
import warnings
warnings.filterwarnings("ignore")

# Load the gold price data
# Update the path as needed
gold = pd.read_excel('cleandata_gold.xlsx')

# Convert 'year' to datetime and sort
gold['year'] = pd.to_datetime(gold['year'])
gold = gold.sort_values('year').reset_index(drop=True)

# Feature engineering: extract month name and year
gold['month'] = gold['year'].dt.month_name()
gold['year_num'] = gold['year'].dt.year

# Check for missing data
print("Missing values:\n", gold.isna().sum())

# Quick preview
print(gold.head())

# Export for Tableau (or further use)
gold.to_excel('gold_tableau.xlsx', index=False)

# Visualization 1: Gold price distribution per year (boxplot)
plt.figure(figsize=(20, 10))
sns.boxplot(x='year_num', y='Gold', data=gold)
plt.title('Gold Price Distribution by Year')
plt.xticks(rotation=90)
plt.tight_layout()
plt.show()

# Visualization 2: Line plot for a specific year (e.g., 2000)
year_to_plot = 2000
plt.figure(figsize=(10, 5))
sns.lineplot(x='month', y='Gold', data=gold[gold['year_num'] == year_to_plot])
plt.title(f'Gold Price Trend in {year_to_plot}')
plt.xticks(rotation=45)
plt.tight_layout()
plt.show()

# Visualization 3: Line plot for all years by month
plt.figure(figsize=(20, 10))
sns.lineplot(x='year', y='Gold', data=gold, hue='month', palette='tab20', legend='full')
plt.title('Gold Price Trend by Month Across Years')
plt.tight_layout()
plt.show()

# Visualization 4: Histogram and KDE
plt.figure(figsize=(15, 5))
gold['Gold'].hist(bins=30, alpha=0.6, color='g', label='Histogram')
gold['Gold'].plot(kind='kde', secondary_y=True, color='b', label='KDE')
plt.title('Gold Price Distribution')
plt.xlabel('Gold Price')
plt.legend()
plt.tight_layout()
plt.show()

# Visualization 5: Moving average
plt.figure(figsize=(15, 5))
rolling_mean = gold['Gold'].rolling(window=12).mean()
plt.plot(gold['year'], gold['Gold'], label='Gold Price')
plt.plot(gold['year'], rolling_mean, color='red', label='12-Month Rolling Mean')
plt.title('Gold Price and 12-Month Moving Average')
plt.legend()
plt.tight_layout()
plt.show()

# Visualization 6: Simple Exponential Smoothing
model = SimpleExpSmoothing(gold['Gold']).fit(smoothing_level=0.2, optimized=True)
plt.figure(figsize=(15, 5))
plt.plot(gold['year'], gold['Gold'], marker='o', color='red', label='Actual')
plt.plot(gold['year'], model.fittedvalues, marker='o', color='blue', label='Fitted')
plt.title('Simple Exponential Smoothing of Gold Prices')
plt.legend()
plt.tight_layout()
plt.show()

# Visualization 7: Lag plot
plt.figure(figsize=(6, 6))
lag_plot(gold['Gold'])
plt.title('Lag plot of Gold Prices')
plt.tight_layout()
plt.show()

# Visualization 8: Autocorrelation and Partial Autocorrelation
plt.figure(figsize=(12, 5))
plot_pacf(gold['Gold'], lags=40)
plt.title('Partial Autocorrelation of Gold Prices')
plt.tight_layout()
plt.show()

plt.figure(figsize=(12, 5))
plot_acf(gold['Gold'], lags=40)
plt.title('Autocorrelation of Gold Prices')
plt.tight_layout()
plt.show()
